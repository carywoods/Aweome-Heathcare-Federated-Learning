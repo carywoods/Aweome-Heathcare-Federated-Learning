{
  "cells": [
    {
      "cell_type": "markdown",
      "metadata": {
        "id": "view-in-github",
        "colab_type": "text"
      },
      "source": [
        "<a href=\"https://colab.research.google.com/github/carywoods/Aweome-Heathcare-Federated-Learning/blob/main/Copy_of_tutorial_00_classification_study.ipynb\" target=\"_parent\"><img src=\"https://colab.research.google.com/assets/colab-badge.svg\" alt=\"Open In Colab\"/></a>"
      ]
    },
    {
      "cell_type": "markdown",
      "id": "molecular-moscow",
      "metadata": {
        "id": "molecular-moscow"
      },
      "source": [
        "# AutoPrognosis classification\n",
        "\n",
        "A __classification model__ is a type of machine learning model used for assigning a categorical label to a given input. It is used to predict the class of a target variable based on one or more predictor variables. The target variable is a categorical variable, with a finite number of discrete class labels, while the predictor variables can be continuous or categorical. The goal of a classification model is to learn a decision boundary that separates the classes as well as possible based on the training data. \n",
        "\n",
        "AutoPrognosis offers the `ClassifierStudy` for selecting an optimal classification model using AutoML."
      ]
    },
    {
      "cell_type": "markdown",
      "id": "auburn-hygiene",
      "metadata": {
        "id": "auburn-hygiene"
      },
      "source": [
        "### Setup"
      ]
    },
    {
      "cell_type": "code",
      "source": [
        "!pip install autoprognosis"
      ],
      "metadata": {
        "id": "WmmGAXrhBU6E",
        "outputId": "02691ced-34b3-4c3d-9a82-e71267c4d8d3",
        "colab": {
          "base_uri": "https://localhost:8080/"
        }
      },
      "id": "WmmGAXrhBU6E",
      "execution_count": null,
      "outputs": [
        {
          "output_type": "stream",
          "name": "stdout",
          "text": [
            "Looking in indexes: https://pypi.org/simple, https://us-python.pkg.dev/colab-wheels/public/simple/\n",
            "Collecting autoprognosis\n",
            "  Downloading autoprognosis-0.1.21-py2.py3-none-any.whl (284 kB)\n",
            "\u001b[2K     \u001b[90m━━━━━━━━━━━━━━━━━━━━━━━━━━━━━━━━━━━━━━━\u001b[0m \u001b[32m284.5/284.5 kB\u001b[0m \u001b[31m5.3 MB/s\u001b[0m eta \u001b[36m0:00:00\u001b[0m\n",
            "\u001b[?25hRequirement already satisfied: torch>=1.10 in /usr/local/lib/python3.9/dist-packages (from autoprognosis) (2.0.0+cu118)\n",
            "Collecting hyperimpute>=0.1.16\n",
            "  Downloading hyperimpute-0.1.17-py3-none-any.whl (92 kB)\n",
            "\u001b[2K     \u001b[90m━━━━━━━━━━━━━━━━━━━━━━━━━━━━━━━━━━━━━━━━\u001b[0m \u001b[32m92.9/92.9 kB\u001b[0m \u001b[31m4.8 MB/s\u001b[0m eta \u001b[36m0:00:00\u001b[0m\n",
            "\u001b[?25hRequirement already satisfied: seaborn in /usr/local/lib/python3.9/dist-packages (from autoprognosis) (0.12.2)\n",
            "Requirement already satisfied: matplotlib in /usr/local/lib/python3.9/dist-packages (from autoprognosis) (3.7.1)\n",
            "Requirement already satisfied: scikit-learn>=1.0 in /usr/local/lib/python3.9/dist-packages (from autoprognosis) (1.2.2)\n",
            "Requirement already satisfied: statsmodels in /usr/local/lib/python3.9/dist-packages (from autoprognosis) (0.13.5)\n",
            "Requirement already satisfied: cloudpickle in /usr/local/lib/python3.9/dist-packages (from autoprognosis) (2.2.1)\n",
            "Collecting lifelines\n",
            "  Downloading lifelines-0.27.4-py3-none-any.whl (349 kB)\n",
            "\u001b[2K     \u001b[90m━━━━━━━━━━━━━━━━━━━━━━━━━━━━━━━━━━━━━━\u001b[0m \u001b[32m349.7/349.7 kB\u001b[0m \u001b[31m15.8 MB/s\u001b[0m eta \u001b[36m0:00:00\u001b[0m\n",
            "\u001b[?25hCollecting redis\n",
            "  Downloading redis-4.5.4-py3-none-any.whl (238 kB)\n",
            "\u001b[2K     \u001b[90m━━━━━━━━━━━━━━━━━━━━━━━━━━━━━━━━━━━━━━\u001b[0m \u001b[32m238.9/238.9 kB\u001b[0m \u001b[31m11.8 MB/s\u001b[0m eta \u001b[36m0:00:00\u001b[0m\n",
            "\u001b[?25hRequirement already satisfied: pandas>=1.3 in /usr/local/lib/python3.9/dist-packages (from autoprognosis) (1.5.3)\n",
            "Requirement already satisfied: numpy>=1.20 in /usr/local/lib/python3.9/dist-packages (from autoprognosis) (1.22.4)\n",
            "Collecting optuna==3.1.0\n",
            "  Downloading optuna-3.1.0-py3-none-any.whl (365 kB)\n",
            "\u001b[2K     \u001b[90m━━━━━━━━━━━━━━━━━━━━━━━━━━━━━━━━━━━━━━\u001b[0m \u001b[32m365.3/365.3 kB\u001b[0m \u001b[31m17.4 MB/s\u001b[0m eta \u001b[36m0:00:00\u001b[0m\n",
            "\u001b[?25hCollecting shap>=0.40.0\n",
            "  Downloading shap-0.41.0-cp39-cp39-manylinux_2_12_x86_64.manylinux2010_x86_64.whl (572 kB)\n",
            "\u001b[2K     \u001b[90m━━━━━━━━━━━━━━━━━━━━━━━━━━━━━━━━━━━━━━\u001b[0m \u001b[32m572.4/572.4 kB\u001b[0m \u001b[31m22.7 MB/s\u001b[0m eta \u001b[36m0:00:00\u001b[0m\n",
            "\u001b[?25hRequirement already satisfied: joblib in /usr/local/lib/python3.9/dist-packages (from autoprognosis) (1.2.0)\n",
            "Requirement already satisfied: scipy>=1.3.2 in /usr/local/lib/python3.9/dist-packages (from autoprognosis) (1.10.1)\n",
            "Collecting pyod\n",
            "  Downloading pyod-1.0.9.tar.gz (149 kB)\n",
            "\u001b[2K     \u001b[90m━━━━━━━━━━━━━━━━━━━━━━━━━━━━━━━━━━━━━━━\u001b[0m \u001b[32m150.0/150.0 kB\u001b[0m \u001b[31m5.6 MB/s\u001b[0m eta \u001b[36m0:00:00\u001b[0m\n",
            "\u001b[?25h  Preparing metadata (setup.py) ... \u001b[?25l\u001b[?25hdone\n",
            "Requirement already satisfied: pydantic in /usr/local/lib/python3.9/dist-packages (from autoprognosis) (1.10.7)\n",
            "Collecting loguru\n",
            "  Downloading loguru-0.7.0-py3-none-any.whl (59 kB)\n",
            "\u001b[2K     \u001b[90m━━━━━━━━━━━━━━━━━━━━━━━━━━━━━━━━━━━━━━━━\u001b[0m \u001b[32m60.0/60.0 kB\u001b[0m \u001b[31m1.7 MB/s\u001b[0m eta \u001b[36m0:00:00\u001b[0m\n",
            "\u001b[?25hRequirement already satisfied: PyYAML in /usr/local/lib/python3.9/dist-packages (from optuna==3.1.0->autoprognosis) (6.0)\n",
            "Collecting colorlog\n",
            "  Downloading colorlog-6.7.0-py2.py3-none-any.whl (11 kB)\n",
            "Requirement already satisfied: packaging>=20.0 in /usr/local/lib/python3.9/dist-packages (from optuna==3.1.0->autoprognosis) (23.1)\n",
            "Requirement already satisfied: tqdm in /usr/local/lib/python3.9/dist-packages (from optuna==3.1.0->autoprognosis) (4.65.0)\n",
            "Collecting cmaes>=0.9.1\n",
            "  Downloading cmaes-0.9.1-py3-none-any.whl (21 kB)\n",
            "Requirement already satisfied: sqlalchemy>=1.3.0 in /usr/local/lib/python3.9/dist-packages (from optuna==3.1.0->autoprognosis) (2.0.10)\n",
            "Collecting alembic>=1.5.0\n",
            "  Downloading alembic-1.10.4-py3-none-any.whl (212 kB)\n",
            "\u001b[2K     \u001b[90m━━━━━━━━━━━━━━━━━━━━━━━━━━━━━━━━━━━━━━━\u001b[0m \u001b[32m212.9/212.9 kB\u001b[0m \u001b[31m3.2 MB/s\u001b[0m eta \u001b[36m0:00:00\u001b[0m\n",
            "\u001b[?25hCollecting geomloss\n",
            "  Downloading geomloss-0.2.5.tar.gz (26 kB)\n",
            "  Preparing metadata (setup.py) ... \u001b[?25l\u001b[?25hdone\n",
            "Collecting loguru\n",
            "  Downloading loguru-0.6.0-py3-none-any.whl (58 kB)\n",
            "\u001b[2K     \u001b[90m━━━━━━━━━━━━━━━━━━━━━━━━━━━━━━━━━━━━━━━━\u001b[0m \u001b[32m58.3/58.3 kB\u001b[0m \u001b[31m4.8 MB/s\u001b[0m eta \u001b[36m0:00:00\u001b[0m\n",
            "\u001b[?25hRequirement already satisfied: lightgbm in /usr/local/lib/python3.9/dist-packages (from hyperimpute>=0.1.16->autoprognosis) (3.3.5)\n",
            "Collecting jupyter\n",
            "  Downloading jupyter-1.0.0-py2.py3-none-any.whl (2.7 kB)\n",
            "Requirement already satisfied: notebook in /usr/local/lib/python3.9/dist-packages (from hyperimpute>=0.1.16->autoprognosis) (6.4.8)\n",
            "Requirement already satisfied: xgboost>=1.6.1 in /usr/local/lib/python3.9/dist-packages (from hyperimpute>=0.1.16->autoprognosis) (1.7.5)\n",
            "Collecting catboost>=1.0.5\n",
            "  Downloading catboost-1.1.1-cp39-none-manylinux1_x86_64.whl (76.6 MB)\n",
            "\u001b[2K     \u001b[90m━━━━━━━━━━━━━━━━━━━━━━━━━━━━━━━━━━━━━━━━\u001b[0m \u001b[32m76.6/76.6 MB\u001b[0m \u001b[31m10.1 MB/s\u001b[0m eta \u001b[36m0:00:00\u001b[0m\n",
            "\u001b[?25hCollecting miracle-imputation>=0.1.3\n",
            "  Downloading miracle_imputation-0.1.5-py3-none-any.whl (15 kB)\n",
            "Requirement already satisfied: pytz>=2020.1 in /usr/local/lib/python3.9/dist-packages (from pandas>=1.3->autoprognosis) (2022.7.1)\n",
            "Requirement already satisfied: python-dateutil>=2.8.1 in /usr/local/lib/python3.9/dist-packages (from pandas>=1.3->autoprognosis) (2.8.2)\n",
            "Requirement already satisfied: threadpoolctl>=2.0.0 in /usr/local/lib/python3.9/dist-packages (from scikit-learn>=1.0->autoprognosis) (3.1.0)\n",
            "Collecting slicer==0.0.7\n",
            "  Downloading slicer-0.0.7-py3-none-any.whl (14 kB)\n",
            "Requirement already satisfied: numba in /usr/local/lib/python3.9/dist-packages (from shap>=0.40.0->autoprognosis) (0.56.4)\n",
            "Requirement already satisfied: sympy in /usr/local/lib/python3.9/dist-packages (from torch>=1.10->autoprognosis) (1.11.1)\n",
            "Requirement already satisfied: jinja2 in /usr/local/lib/python3.9/dist-packages (from torch>=1.10->autoprognosis) (3.1.2)\n",
            "Requirement already satisfied: triton==2.0.0 in /usr/local/lib/python3.9/dist-packages (from torch>=1.10->autoprognosis) (2.0.0)\n",
            "Requirement already satisfied: networkx in /usr/local/lib/python3.9/dist-packages (from torch>=1.10->autoprognosis) (3.1)\n",
            "Requirement already satisfied: filelock in /usr/local/lib/python3.9/dist-packages (from torch>=1.10->autoprognosis) (3.12.0)\n",
            "Requirement already satisfied: typing-extensions in /usr/local/lib/python3.9/dist-packages (from torch>=1.10->autoprognosis) (4.5.0)\n",
            "Requirement already satisfied: cmake in /usr/local/lib/python3.9/dist-packages (from triton==2.0.0->torch>=1.10->autoprognosis) (3.25.2)\n",
            "Requirement already satisfied: lit in /usr/local/lib/python3.9/dist-packages (from triton==2.0.0->torch>=1.10->autoprognosis) (16.0.2)\n",
            "Requirement already satisfied: autograd>=1.5 in /usr/local/lib/python3.9/dist-packages (from lifelines->autoprognosis) (1.5)\n",
            "Collecting autograd-gamma>=0.3\n",
            "  Downloading autograd-gamma-0.5.0.tar.gz (4.0 kB)\n",
            "  Preparing metadata (setup.py) ... \u001b[?25l\u001b[?25hdone\n",
            "Collecting formulaic>=0.2.2\n",
            "  Downloading formulaic-0.5.2-py3-none-any.whl (77 kB)\n",
            "\u001b[2K     \u001b[90m━━━━━━━━━━━━━━━━━━━━━━━━━━━━━━━━━━━━━━━━\u001b[0m \u001b[32m77.1/77.1 kB\u001b[0m \u001b[31m3.4 MB/s\u001b[0m eta \u001b[36m0:00:00\u001b[0m\n",
            "\u001b[?25hRequirement already satisfied: kiwisolver>=1.0.1 in /usr/local/lib/python3.9/dist-packages (from matplotlib->autoprognosis) (1.4.4)\n",
            "Requirement already satisfied: contourpy>=1.0.1 in /usr/local/lib/python3.9/dist-packages (from matplotlib->autoprognosis) (1.0.7)\n",
            "Requirement already satisfied: pillow>=6.2.0 in /usr/local/lib/python3.9/dist-packages (from matplotlib->autoprognosis) (8.4.0)\n",
            "Requirement already satisfied: cycler>=0.10 in /usr/local/lib/python3.9/dist-packages (from matplotlib->autoprognosis) (0.11.0)\n",
            "Requirement already satisfied: pyparsing>=2.3.1 in /usr/local/lib/python3.9/dist-packages (from matplotlib->autoprognosis) (3.0.9)\n",
            "Requirement already satisfied: importlib-resources>=3.2.0 in /usr/local/lib/python3.9/dist-packages (from matplotlib->autoprognosis) (5.12.0)\n",
            "Requirement already satisfied: fonttools>=4.22.0 in /usr/local/lib/python3.9/dist-packages (from matplotlib->autoprognosis) (4.39.3)\n",
            "Requirement already satisfied: six in /usr/local/lib/python3.9/dist-packages (from pyod->autoprognosis) (1.16.0)\n",
            "Collecting async-timeout>=4.0.2\n",
            "  Downloading async_timeout-4.0.2-py3-none-any.whl (5.8 kB)\n",
            "Requirement already satisfied: patsy>=0.5.2 in /usr/local/lib/python3.9/dist-packages (from statsmodels->autoprognosis) (0.5.3)\n",
            "Collecting Mako\n",
            "  Downloading Mako-1.2.4-py3-none-any.whl (78 kB)\n",
            "\u001b[2K     \u001b[90m━━━━━━━━━━━━━━━━━━━━━━━━━━━━━━━━━━━━━━━━\u001b[0m \u001b[32m78.7/78.7 kB\u001b[0m \u001b[31m4.9 MB/s\u001b[0m eta \u001b[36m0:00:00\u001b[0m\n",
            "\u001b[?25hRequirement already satisfied: future>=0.15.2 in /usr/local/lib/python3.9/dist-packages (from autograd>=1.5->lifelines->autoprognosis) (0.18.3)\n",
            "Requirement already satisfied: graphviz in /usr/local/lib/python3.9/dist-packages (from catboost>=1.0.5->hyperimpute>=0.1.16->autoprognosis) (0.20.1)\n",
            "Requirement already satisfied: plotly in /usr/local/lib/python3.9/dist-packages (from catboost>=1.0.5->hyperimpute>=0.1.16->autoprognosis) (5.13.1)\n",
            "Collecting interface-meta>=1.2.0\n",
            "  Downloading interface_meta-1.3.0-py3-none-any.whl (14 kB)\n",
            "Collecting astor>=0.8\n",
            "  Downloading astor-0.8.1-py2.py3-none-any.whl (27 kB)\n",
            "Requirement already satisfied: wrapt>=1.0 in /usr/local/lib/python3.9/dist-packages (from formulaic>=0.2.2->lifelines->autoprognosis) (1.14.1)\n",
            "Requirement already satisfied: zipp>=3.1.0 in /usr/local/lib/python3.9/dist-packages (from importlib-resources>=3.2.0->matplotlib->autoprognosis) (3.15.0)\n",
            "Requirement already satisfied: tensorflow>=2.0 in /usr/local/lib/python3.9/dist-packages (from miracle-imputation>=0.1.3->hyperimpute>=0.1.16->autoprognosis) (2.12.0)\n",
            "Requirement already satisfied: llvmlite<0.40,>=0.39.0dev0 in /usr/local/lib/python3.9/dist-packages (from numba->shap>=0.40.0->autoprognosis) (0.39.1)\n",
            "Requirement already satisfied: setuptools in /usr/local/lib/python3.9/dist-packages (from numba->shap>=0.40.0->autoprognosis) (67.7.2)\n",
            "Requirement already satisfied: greenlet!=0.4.17 in /usr/local/lib/python3.9/dist-packages (from sqlalchemy>=1.3.0->optuna==3.1.0->autoprognosis) (2.0.2)\n",
            "Requirement already satisfied: MarkupSafe>=2.0 in /usr/local/lib/python3.9/dist-packages (from jinja2->torch>=1.10->autoprognosis) (2.1.2)\n",
            "Requirement already satisfied: nbconvert in /usr/local/lib/python3.9/dist-packages (from jupyter->hyperimpute>=0.1.16->autoprognosis) (6.5.4)\n",
            "Requirement already satisfied: ipywidgets in /usr/local/lib/python3.9/dist-packages (from jupyter->hyperimpute>=0.1.16->autoprognosis) (7.7.1)\n",
            "Requirement already satisfied: ipykernel in /usr/local/lib/python3.9/dist-packages (from jupyter->hyperimpute>=0.1.16->autoprognosis) (5.5.6)\n",
            "Requirement already satisfied: jupyter-console in /usr/local/lib/python3.9/dist-packages (from jupyter->hyperimpute>=0.1.16->autoprognosis) (6.1.0)\n",
            "Collecting qtconsole\n",
            "  Downloading qtconsole-5.4.2-py3-none-any.whl (121 kB)\n",
            "\u001b[2K     \u001b[90m━━━━━━━━━━━━━━━━━━━━━━━━━━━━━━━━━━━━━━\u001b[0m \u001b[32m121.2/121.2 kB\u001b[0m \u001b[31m13.5 MB/s\u001b[0m eta \u001b[36m0:00:00\u001b[0m\n",
            "\u001b[?25hRequirement already satisfied: wheel in /usr/local/lib/python3.9/dist-packages (from lightgbm->hyperimpute>=0.1.16->autoprognosis) (0.40.0)\n",
            "Requirement already satisfied: pyzmq>=17 in /usr/local/lib/python3.9/dist-packages (from notebook->hyperimpute>=0.1.16->autoprognosis) (23.2.1)\n",
            "Requirement already satisfied: argon2-cffi in /usr/local/lib/python3.9/dist-packages (from notebook->hyperimpute>=0.1.16->autoprognosis) (21.3.0)\n",
            "Requirement already satisfied: prometheus-client in /usr/local/lib/python3.9/dist-packages (from notebook->hyperimpute>=0.1.16->autoprognosis) (0.16.0)\n",
            "Requirement already satisfied: traitlets>=4.2.1 in /usr/local/lib/python3.9/dist-packages (from notebook->hyperimpute>=0.1.16->autoprognosis) (5.7.1)\n",
            "Requirement already satisfied: ipython-genutils in /usr/local/lib/python3.9/dist-packages (from notebook->hyperimpute>=0.1.16->autoprognosis) (0.2.0)\n",
            "Requirement already satisfied: jupyter-core>=4.6.1 in /usr/local/lib/python3.9/dist-packages (from notebook->hyperimpute>=0.1.16->autoprognosis) (5.3.0)\n",
            "Requirement already satisfied: tornado>=6.1 in /usr/local/lib/python3.9/dist-packages (from notebook->hyperimpute>=0.1.16->autoprognosis) (6.2)\n",
            "Requirement already satisfied: jupyter-client>=5.3.4 in /usr/local/lib/python3.9/dist-packages (from notebook->hyperimpute>=0.1.16->autoprognosis) (6.1.12)\n",
            "Requirement already satisfied: nbformat in /usr/local/lib/python3.9/dist-packages (from notebook->hyperimpute>=0.1.16->autoprognosis) (5.8.0)\n",
            "Requirement already satisfied: terminado>=0.8.3 in /usr/local/lib/python3.9/dist-packages (from notebook->hyperimpute>=0.1.16->autoprognosis) (0.17.1)\n",
            "Requirement already satisfied: nest-asyncio>=1.5 in /usr/local/lib/python3.9/dist-packages (from notebook->hyperimpute>=0.1.16->autoprognosis) (1.5.6)\n",
            "Requirement already satisfied: Send2Trash>=1.8.0 in /usr/local/lib/python3.9/dist-packages (from notebook->hyperimpute>=0.1.16->autoprognosis) (1.8.0)\n",
            "Requirement already satisfied: mpmath>=0.19 in /usr/local/lib/python3.9/dist-packages (from sympy->torch>=1.10->autoprognosis) (1.3.0)\n",
            "Requirement already satisfied: platformdirs>=2.5 in /usr/local/lib/python3.9/dist-packages (from jupyter-core>=4.6.1->notebook->hyperimpute>=0.1.16->autoprognosis) (3.2.0)\n",
            "Requirement already satisfied: gast<=0.4.0,>=0.2.1 in /usr/local/lib/python3.9/dist-packages (from tensorflow>=2.0->miracle-imputation>=0.1.3->hyperimpute>=0.1.16->autoprognosis) (0.4.0)\n",
            "Requirement already satisfied: jax>=0.3.15 in /usr/local/lib/python3.9/dist-packages (from tensorflow>=2.0->miracle-imputation>=0.1.3->hyperimpute>=0.1.16->autoprognosis) (0.4.8)\n",
            "Requirement already satisfied: tensorflow-io-gcs-filesystem>=0.23.1 in /usr/local/lib/python3.9/dist-packages (from tensorflow>=2.0->miracle-imputation>=0.1.3->hyperimpute>=0.1.16->autoprognosis) (0.32.0)\n",
            "Requirement already satisfied: opt-einsum>=2.3.2 in /usr/local/lib/python3.9/dist-packages (from tensorflow>=2.0->miracle-imputation>=0.1.3->hyperimpute>=0.1.16->autoprognosis) (3.3.0)\n",
            "Requirement already satisfied: tensorflow-estimator<2.13,>=2.12.0 in /usr/local/lib/python3.9/dist-packages (from tensorflow>=2.0->miracle-imputation>=0.1.3->hyperimpute>=0.1.16->autoprognosis) (2.12.0)\n",
            "Requirement already satisfied: protobuf!=4.21.0,!=4.21.1,!=4.21.2,!=4.21.3,!=4.21.4,!=4.21.5,<5.0.0dev,>=3.20.3 in /usr/local/lib/python3.9/dist-packages (from tensorflow>=2.0->miracle-imputation>=0.1.3->hyperimpute>=0.1.16->autoprognosis) (3.20.3)\n",
            "Requirement already satisfied: h5py>=2.9.0 in /usr/local/lib/python3.9/dist-packages (from tensorflow>=2.0->miracle-imputation>=0.1.3->hyperimpute>=0.1.16->autoprognosis) (3.8.0)\n",
            "Requirement already satisfied: keras<2.13,>=2.12.0 in /usr/local/lib/python3.9/dist-packages (from tensorflow>=2.0->miracle-imputation>=0.1.3->hyperimpute>=0.1.16->autoprognosis) (2.12.0)\n",
            "Requirement already satisfied: astunparse>=1.6.0 in /usr/local/lib/python3.9/dist-packages (from tensorflow>=2.0->miracle-imputation>=0.1.3->hyperimpute>=0.1.16->autoprognosis) (1.6.3)\n",
            "Requirement already satisfied: grpcio<2.0,>=1.24.3 in /usr/local/lib/python3.9/dist-packages (from tensorflow>=2.0->miracle-imputation>=0.1.3->hyperimpute>=0.1.16->autoprognosis) (1.54.0)\n",
            "Requirement already satisfied: flatbuffers>=2.0 in /usr/local/lib/python3.9/dist-packages (from tensorflow>=2.0->miracle-imputation>=0.1.3->hyperimpute>=0.1.16->autoprognosis) (23.3.3)\n",
            "Requirement already satisfied: absl-py>=1.0.0 in /usr/local/lib/python3.9/dist-packages (from tensorflow>=2.0->miracle-imputation>=0.1.3->hyperimpute>=0.1.16->autoprognosis) (1.4.0)\n",
            "Requirement already satisfied: libclang>=13.0.0 in /usr/local/lib/python3.9/dist-packages (from tensorflow>=2.0->miracle-imputation>=0.1.3->hyperimpute>=0.1.16->autoprognosis) (16.0.0)\n",
            "Requirement already satisfied: google-pasta>=0.1.1 in /usr/local/lib/python3.9/dist-packages (from tensorflow>=2.0->miracle-imputation>=0.1.3->hyperimpute>=0.1.16->autoprognosis) (0.2.0)\n",
            "Requirement already satisfied: tensorboard<2.13,>=2.12 in /usr/local/lib/python3.9/dist-packages (from tensorflow>=2.0->miracle-imputation>=0.1.3->hyperimpute>=0.1.16->autoprognosis) (2.12.2)\n",
            "Requirement already satisfied: termcolor>=1.1.0 in /usr/local/lib/python3.9/dist-packages (from tensorflow>=2.0->miracle-imputation>=0.1.3->hyperimpute>=0.1.16->autoprognosis) (2.3.0)\n",
            "Requirement already satisfied: ptyprocess in /usr/local/lib/python3.9/dist-packages (from terminado>=0.8.3->notebook->hyperimpute>=0.1.16->autoprognosis) (0.7.0)\n",
            "Requirement already satisfied: argon2-cffi-bindings in /usr/local/lib/python3.9/dist-packages (from argon2-cffi->notebook->hyperimpute>=0.1.16->autoprognosis) (21.2.0)\n",
            "Requirement already satisfied: ipython>=5.0.0 in /usr/local/lib/python3.9/dist-packages (from ipykernel->jupyter->hyperimpute>=0.1.16->autoprognosis) (7.34.0)\n",
            "Requirement already satisfied: widgetsnbextension~=3.6.0 in /usr/local/lib/python3.9/dist-packages (from ipywidgets->jupyter->hyperimpute>=0.1.16->autoprognosis) (3.6.4)\n",
            "Requirement already satisfied: jupyterlab-widgets>=1.0.0 in /usr/local/lib/python3.9/dist-packages (from ipywidgets->jupyter->hyperimpute>=0.1.16->autoprognosis) (3.0.7)\n",
            "Requirement already satisfied: pygments in /usr/local/lib/python3.9/dist-packages (from jupyter-console->jupyter->hyperimpute>=0.1.16->autoprognosis) (2.14.0)\n",
            "Requirement already satisfied: prompt-toolkit!=3.0.0,!=3.0.1,<3.1.0,>=2.0.0 in /usr/local/lib/python3.9/dist-packages (from jupyter-console->jupyter->hyperimpute>=0.1.16->autoprognosis) (3.0.38)\n",
            "Requirement already satisfied: defusedxml in /usr/local/lib/python3.9/dist-packages (from nbconvert->jupyter->hyperimpute>=0.1.16->autoprognosis) (0.7.1)\n",
            "Requirement already satisfied: bleach in /usr/local/lib/python3.9/dist-packages (from nbconvert->jupyter->hyperimpute>=0.1.16->autoprognosis) (6.0.0)\n",
            "Requirement already satisfied: entrypoints>=0.2.2 in /usr/local/lib/python3.9/dist-packages (from nbconvert->jupyter->hyperimpute>=0.1.16->autoprognosis) (0.4)\n",
            "Requirement already satisfied: beautifulsoup4 in /usr/local/lib/python3.9/dist-packages (from nbconvert->jupyter->hyperimpute>=0.1.16->autoprognosis) (4.11.2)\n",
            "Requirement already satisfied: lxml in /usr/local/lib/python3.9/dist-packages (from nbconvert->jupyter->hyperimpute>=0.1.16->autoprognosis) (4.9.2)\n",
            "Requirement already satisfied: mistune<2,>=0.8.1 in /usr/local/lib/python3.9/dist-packages (from nbconvert->jupyter->hyperimpute>=0.1.16->autoprognosis) (0.8.4)\n",
            "Requirement already satisfied: tinycss2 in /usr/local/lib/python3.9/dist-packages (from nbconvert->jupyter->hyperimpute>=0.1.16->autoprognosis) (1.2.1)\n",
            "Requirement already satisfied: jupyterlab-pygments in /usr/local/lib/python3.9/dist-packages (from nbconvert->jupyter->hyperimpute>=0.1.16->autoprognosis) (0.2.2)\n",
            "Requirement already satisfied: nbclient>=0.5.0 in /usr/local/lib/python3.9/dist-packages (from nbconvert->jupyter->hyperimpute>=0.1.16->autoprognosis) (0.7.3)\n",
            "Requirement already satisfied: pandocfilters>=1.4.1 in /usr/local/lib/python3.9/dist-packages (from nbconvert->jupyter->hyperimpute>=0.1.16->autoprognosis) (1.5.0)\n",
            "Requirement already satisfied: fastjsonschema in /usr/local/lib/python3.9/dist-packages (from nbformat->notebook->hyperimpute>=0.1.16->autoprognosis) (2.16.3)\n",
            "Requirement already satisfied: jsonschema>=2.6 in /usr/local/lib/python3.9/dist-packages (from nbformat->notebook->hyperimpute>=0.1.16->autoprognosis) (4.3.3)\n",
            "Requirement already satisfied: tenacity>=6.2.0 in /usr/local/lib/python3.9/dist-packages (from plotly->catboost>=1.0.5->hyperimpute>=0.1.16->autoprognosis) (8.2.2)\n",
            "Collecting qtpy>=2.0.1\n",
            "  Downloading QtPy-2.3.1-py3-none-any.whl (84 kB)\n",
            "\u001b[2K     \u001b[90m━━━━━━━━━━━━━━━━━━━━━━━━━━━━━━━━━━━━━━━━\u001b[0m \u001b[32m84.9/84.9 kB\u001b[0m \u001b[31m8.0 MB/s\u001b[0m eta \u001b[36m0:00:00\u001b[0m\n",
            "\u001b[?25hRequirement already satisfied: matplotlib-inline in /usr/local/lib/python3.9/dist-packages (from ipython>=5.0.0->ipykernel->jupyter->hyperimpute>=0.1.16->autoprognosis) (0.1.6)\n",
            "Requirement already satisfied: pexpect>4.3 in /usr/local/lib/python3.9/dist-packages (from ipython>=5.0.0->ipykernel->jupyter->hyperimpute>=0.1.16->autoprognosis) (4.8.0)\n",
            "Collecting jedi>=0.16\n",
            "  Downloading jedi-0.18.2-py2.py3-none-any.whl (1.6 MB)\n",
            "\u001b[2K     \u001b[90m━━━━━━━━━━━━━━━━━━━━━━━━━━━━━━━━━━━━━━━━\u001b[0m \u001b[32m1.6/1.6 MB\u001b[0m \u001b[31m67.9 MB/s\u001b[0m eta \u001b[36m0:00:00\u001b[0m\n",
            "\u001b[?25hRequirement already satisfied: decorator in /usr/local/lib/python3.9/dist-packages (from ipython>=5.0.0->ipykernel->jupyter->hyperimpute>=0.1.16->autoprognosis) (4.4.2)\n",
            "Requirement already satisfied: backcall in /usr/local/lib/python3.9/dist-packages (from ipython>=5.0.0->ipykernel->jupyter->hyperimpute>=0.1.16->autoprognosis) (0.2.0)\n",
            "Requirement already satisfied: pickleshare in /usr/local/lib/python3.9/dist-packages (from ipython>=5.0.0->ipykernel->jupyter->hyperimpute>=0.1.16->autoprognosis) (0.7.5)\n",
            "Requirement already satisfied: ml-dtypes>=0.0.3 in /usr/local/lib/python3.9/dist-packages (from jax>=0.3.15->tensorflow>=2.0->miracle-imputation>=0.1.3->hyperimpute>=0.1.16->autoprognosis) (0.1.0)\n",
            "Requirement already satisfied: attrs>=17.4.0 in /usr/local/lib/python3.9/dist-packages (from jsonschema>=2.6->nbformat->notebook->hyperimpute>=0.1.16->autoprognosis) (23.1.0)\n",
            "Requirement already satisfied: pyrsistent!=0.17.0,!=0.17.1,!=0.17.2,>=0.14.0 in /usr/local/lib/python3.9/dist-packages (from jsonschema>=2.6->nbformat->notebook->hyperimpute>=0.1.16->autoprognosis) (0.19.3)\n",
            "Requirement already satisfied: wcwidth in /usr/local/lib/python3.9/dist-packages (from prompt-toolkit!=3.0.0,!=3.0.1,<3.1.0,>=2.0.0->jupyter-console->jupyter->hyperimpute>=0.1.16->autoprognosis) (0.2.6)\n",
            "Requirement already satisfied: tensorboard-plugin-wit>=1.6.0 in /usr/local/lib/python3.9/dist-packages (from tensorboard<2.13,>=2.12->tensorflow>=2.0->miracle-imputation>=0.1.3->hyperimpute>=0.1.16->autoprognosis) (1.8.1)\n",
            "Requirement already satisfied: requests<3,>=2.21.0 in /usr/local/lib/python3.9/dist-packages (from tensorboard<2.13,>=2.12->tensorflow>=2.0->miracle-imputation>=0.1.3->hyperimpute>=0.1.16->autoprognosis) (2.27.1)\n",
            "Requirement already satisfied: google-auth-oauthlib<1.1,>=0.5 in /usr/local/lib/python3.9/dist-packages (from tensorboard<2.13,>=2.12->tensorflow>=2.0->miracle-imputation>=0.1.3->hyperimpute>=0.1.16->autoprognosis) (1.0.0)\n",
            "Requirement already satisfied: markdown>=2.6.8 in /usr/local/lib/python3.9/dist-packages (from tensorboard<2.13,>=2.12->tensorflow>=2.0->miracle-imputation>=0.1.3->hyperimpute>=0.1.16->autoprognosis) (3.4.3)\n",
            "Requirement already satisfied: tensorboard-data-server<0.8.0,>=0.7.0 in /usr/local/lib/python3.9/dist-packages (from tensorboard<2.13,>=2.12->tensorflow>=2.0->miracle-imputation>=0.1.3->hyperimpute>=0.1.16->autoprognosis) (0.7.0)\n",
            "Requirement already satisfied: werkzeug>=1.0.1 in /usr/local/lib/python3.9/dist-packages (from tensorboard<2.13,>=2.12->tensorflow>=2.0->miracle-imputation>=0.1.3->hyperimpute>=0.1.16->autoprognosis) (2.2.3)\n",
            "Requirement already satisfied: google-auth<3,>=1.6.3 in /usr/local/lib/python3.9/dist-packages (from tensorboard<2.13,>=2.12->tensorflow>=2.0->miracle-imputation>=0.1.3->hyperimpute>=0.1.16->autoprognosis) (2.17.3)\n",
            "Requirement already satisfied: cffi>=1.0.1 in /usr/local/lib/python3.9/dist-packages (from argon2-cffi-bindings->argon2-cffi->notebook->hyperimpute>=0.1.16->autoprognosis) (1.15.1)\n",
            "Requirement already satisfied: soupsieve>1.2 in /usr/local/lib/python3.9/dist-packages (from beautifulsoup4->nbconvert->jupyter->hyperimpute>=0.1.16->autoprognosis) (2.4.1)\n",
            "Requirement already satisfied: webencodings in /usr/local/lib/python3.9/dist-packages (from bleach->nbconvert->jupyter->hyperimpute>=0.1.16->autoprognosis) (0.5.1)\n",
            "Requirement already satisfied: pycparser in /usr/local/lib/python3.9/dist-packages (from cffi>=1.0.1->argon2-cffi-bindings->argon2-cffi->notebook->hyperimpute>=0.1.16->autoprognosis) (2.21)\n",
            "Requirement already satisfied: cachetools<6.0,>=2.0.0 in /usr/local/lib/python3.9/dist-packages (from google-auth<3,>=1.6.3->tensorboard<2.13,>=2.12->tensorflow>=2.0->miracle-imputation>=0.1.3->hyperimpute>=0.1.16->autoprognosis) (5.3.0)\n",
            "Requirement already satisfied: pyasn1-modules>=0.2.1 in /usr/local/lib/python3.9/dist-packages (from google-auth<3,>=1.6.3->tensorboard<2.13,>=2.12->tensorflow>=2.0->miracle-imputation>=0.1.3->hyperimpute>=0.1.16->autoprognosis) (0.3.0)\n",
            "Requirement already satisfied: rsa<5,>=3.1.4 in /usr/local/lib/python3.9/dist-packages (from google-auth<3,>=1.6.3->tensorboard<2.13,>=2.12->tensorflow>=2.0->miracle-imputation>=0.1.3->hyperimpute>=0.1.16->autoprognosis) (4.9)\n",
            "Requirement already satisfied: requests-oauthlib>=0.7.0 in /usr/local/lib/python3.9/dist-packages (from google-auth-oauthlib<1.1,>=0.5->tensorboard<2.13,>=2.12->tensorflow>=2.0->miracle-imputation>=0.1.3->hyperimpute>=0.1.16->autoprognosis) (1.3.1)\n",
            "Requirement already satisfied: parso<0.9.0,>=0.8.0 in /usr/local/lib/python3.9/dist-packages (from jedi>=0.16->ipython>=5.0.0->ipykernel->jupyter->hyperimpute>=0.1.16->autoprognosis) (0.8.3)\n",
            "Requirement already satisfied: importlib-metadata>=4.4 in /usr/local/lib/python3.9/dist-packages (from markdown>=2.6.8->tensorboard<2.13,>=2.12->tensorflow>=2.0->miracle-imputation>=0.1.3->hyperimpute>=0.1.16->autoprognosis) (6.6.0)\n",
            "Requirement already satisfied: idna<4,>=2.5 in /usr/local/lib/python3.9/dist-packages (from requests<3,>=2.21.0->tensorboard<2.13,>=2.12->tensorflow>=2.0->miracle-imputation>=0.1.3->hyperimpute>=0.1.16->autoprognosis) (3.4)\n",
            "Requirement already satisfied: urllib3<1.27,>=1.21.1 in /usr/local/lib/python3.9/dist-packages (from requests<3,>=2.21.0->tensorboard<2.13,>=2.12->tensorflow>=2.0->miracle-imputation>=0.1.3->hyperimpute>=0.1.16->autoprognosis) (1.26.15)\n",
            "Requirement already satisfied: charset-normalizer~=2.0.0 in /usr/local/lib/python3.9/dist-packages (from requests<3,>=2.21.0->tensorboard<2.13,>=2.12->tensorflow>=2.0->miracle-imputation>=0.1.3->hyperimpute>=0.1.16->autoprognosis) (2.0.12)\n",
            "Requirement already satisfied: certifi>=2017.4.17 in /usr/local/lib/python3.9/dist-packages (from requests<3,>=2.21.0->tensorboard<2.13,>=2.12->tensorflow>=2.0->miracle-imputation>=0.1.3->hyperimpute>=0.1.16->autoprognosis) (2022.12.7)\n",
            "Requirement already satisfied: pyasn1<0.6.0,>=0.4.6 in /usr/local/lib/python3.9/dist-packages (from pyasn1-modules>=0.2.1->google-auth<3,>=1.6.3->tensorboard<2.13,>=2.12->tensorflow>=2.0->miracle-imputation>=0.1.3->hyperimpute>=0.1.16->autoprognosis) (0.5.0)\n",
            "Requirement already satisfied: oauthlib>=3.0.0 in /usr/local/lib/python3.9/dist-packages (from requests-oauthlib>=0.7.0->google-auth-oauthlib<1.1,>=0.5->tensorboard<2.13,>=2.12->tensorflow>=2.0->miracle-imputation>=0.1.3->hyperimpute>=0.1.16->autoprognosis) (3.2.2)\n",
            "Building wheels for collected packages: pyod, autograd-gamma, geomloss\n",
            "  Building wheel for pyod (setup.py) ... \u001b[?25l\u001b[?25hdone\n",
            "  Created wheel for pyod: filename=pyod-1.0.9-py3-none-any.whl size=184112 sha256=697626c2680bcaa019c3986476508eb623f66a0627e55aaf28451e2caf1e1115\n",
            "  Stored in directory: /root/.cache/pip/wheels/1b/9c/b8/9759d7cc64a1e01bb9872ade80cb7db445ccf506e083325106\n",
            "  Building wheel for autograd-gamma (setup.py) ... \u001b[?25l\u001b[?25hdone\n",
            "  Created wheel for autograd-gamma: filename=autograd_gamma-0.5.0-py3-none-any.whl size=4049 sha256=ba1043491eb9bef6003b4df38ba0376346879172a7b67790643ec3f1229fb1c8\n",
            "  Stored in directory: /root/.cache/pip/wheels/a8/03/64/8557323821d25118c3a2dc1646996f7a962a8970d4b7d22473\n",
            "  Building wheel for geomloss (setup.py) ... \u001b[?25l\u001b[?25hdone\n",
            "  Created wheel for geomloss: filename=geomloss-0.2.5-py3-none-any.whl size=32068 sha256=8dba9950077e006ca4a5cbfc7c11126f7a0e3297a12674edb1e56fb5fc03d8d3\n",
            "  Stored in directory: /root/.cache/pip/wheels/91/5f/d7/0dbc6074929fc09f1280db596bfe0e2b59e5790bdfbaefe017\n",
            "Successfully built pyod autograd-gamma geomloss\n",
            "Installing collected packages: slicer, qtpy, Mako, loguru, jedi, interface-meta, geomloss, colorlog, cmaes, async-timeout, astor, redis, autograd-gamma, alembic, shap, pyod, optuna, formulaic, catboost, qtconsole, lifelines, miracle-imputation, jupyter, hyperimpute, autoprognosis\n",
            "Successfully installed Mako-1.2.4 alembic-1.10.4 astor-0.8.1 async-timeout-4.0.2 autograd-gamma-0.5.0 autoprognosis-0.1.21 catboost-1.1.1 cmaes-0.9.1 colorlog-6.7.0 formulaic-0.5.2 geomloss-0.2.5 hyperimpute-0.1.17 interface-meta-1.3.0 jedi-0.18.2 jupyter-1.0.0 lifelines-0.27.4 loguru-0.6.0 miracle-imputation-0.1.5 optuna-3.1.0 pyod-1.0.9 qtconsole-5.4.2 qtpy-2.3.1 redis-4.5.4 shap-0.41.0 slicer-0.0.7\n"
          ]
        }
      ]
    },
    {
      "cell_type": "code",
      "execution_count": null,
      "id": "wanted-point",
      "metadata": {
        "id": "wanted-point"
      },
      "outputs": [],
      "source": [
        "# stdlib\n",
        "import json\n",
        "import warnings\n",
        "\n",
        "# third party\n",
        "import pandas as pd\n",
        "from sklearn.datasets import load_breast_cancer\n",
        "from sklearn.model_selection import train_test_split\n",
        "\n",
        "warnings.filterwarnings(\"ignore\")"
      ]
    },
    {
      "cell_type": "markdown",
      "id": "573e7cfc",
      "metadata": {
        "id": "573e7cfc"
      },
      "source": [
        "### Import ClassifierStudy\n",
        "\n",
        "ClassifierStudy is the engine that learns an ensemble of pipelines and their hyperparameters automatically."
      ]
    },
    {
      "cell_type": "code",
      "execution_count": null,
      "id": "c1304c76",
      "metadata": {
        "id": "c1304c76"
      },
      "outputs": [],
      "source": [
        "# autoprognosis absolute\n",
        "from autoprognosis.studies.classifiers import ClassifierStudy"
      ]
    },
    {
      "cell_type": "markdown",
      "id": "devoted-console",
      "metadata": {
        "id": "devoted-console"
      },
      "source": [
        "### Load the target dataset\n",
        "\n",
        "AutoPrognosis expects pandas.DataFrames as input.\n",
        "\n",
        "For this example, we will use the [Breast Cancer Wisconsin Dataset](https://archive.ics.uci.edu/ml/datasets/Breast+Cancer+Wisconsin+(Diagnostic))."
      ]
    },
    {
      "cell_type": "code",
      "execution_count": null,
      "id": "coated-innocent",
      "metadata": {
        "id": "coated-innocent"
      },
      "outputs": [],
      "source": [
        "# stdlib\n",
        "from pathlib import Path\n",
        "\n",
        "X, Y = load_breast_cancer(return_X_y=True, as_frame=True)\n",
        "\n",
        "df = X.copy()\n",
        "df[\"target\"] = Y"
      ]
    },
    {
      "cell_type": "markdown",
      "id": "refined-booth",
      "metadata": {
        "id": "refined-booth"
      },
      "source": [
        "### Create the classifier\n",
        "\n",
        "While AutoPrognosis provides default plugins, it allows the user to customize the plugins for the pipelines.\n",
        "\n",
        "You can see the supported plugins below:"
      ]
    },
    {
      "cell_type": "code",
      "execution_count": null,
      "id": "1def3193",
      "metadata": {
        "id": "1def3193",
        "outputId": "e3cf2663-5226-48c2-eb8f-dcc3974d32bd",
        "colab": {
          "base_uri": "https://localhost:8080/"
        }
      },
      "outputs": [
        {
          "output_type": "stream",
          "name": "stdout",
          "text": [
            "{\n",
            "  \"imputer\": {\n",
            "    \"default\": [\n",
            "      \"missforest\",\n",
            "      \"sinkhorn\",\n",
            "      \"gain\",\n",
            "      \"softimpute\",\n",
            "      \"hyperimpute\",\n",
            "      \"mean\",\n",
            "      \"ice\",\n",
            "      \"EM\",\n",
            "      \"median\",\n",
            "      \"most_frequent\",\n",
            "      \"nop\",\n",
            "      \"mice\"\n",
            "    ]\n",
            "  },\n",
            "  \"prediction\": {\n",
            "    \"classifier\": [\n",
            "      \"decision_trees\",\n",
            "      \"lgbm\",\n",
            "      \"gaussian_naive_bayes\",\n",
            "      \"bernoulli_naive_bayes\",\n",
            "      \"random_forest\",\n",
            "      \"gradient_boosting\",\n",
            "      \"lda\",\n",
            "      \"ridge_classifier\",\n",
            "      \"adaboost\",\n",
            "      \"perceptron\",\n",
            "      \"linear_svm\",\n",
            "      \"hist_gradient_boosting\",\n",
            "      \"multinomial_naive_bayes\",\n",
            "      \"tabnet\",\n",
            "      \"xgboost\",\n",
            "      \"knn\",\n",
            "      \"catboost\",\n",
            "      \"logistic_regression\",\n",
            "      \"gaussian_process\",\n",
            "      \"qda\",\n",
            "      \"bagging\",\n",
            "      \"extra_tree_classifier\",\n",
            "      \"neural_nets\"\n",
            "    ],\n",
            "    \"regression\": [\n",
            "      \"neural_nets_regression\",\n",
            "      \"random_forest_regressor\",\n",
            "      \"kneighbors_regressor\",\n",
            "      \"catboost_regressor\",\n",
            "      \"bayesian_ridge\",\n",
            "      \"linear_regression\",\n",
            "      \"tabnet_regressor\",\n",
            "      \"mlp_regressor\",\n",
            "      \"xgboost_regressor\"\n",
            "    ],\n",
            "    \"risk_estimation\": [\n",
            "      \"lognormal_aft\",\n",
            "      \"cox_ph\",\n",
            "      \"coxnet\",\n",
            "      \"loglogistic_aft\",\n",
            "      \"survival_xgboost\",\n",
            "      \"deephit\",\n",
            "      \"weibull_aft\"\n",
            "    ]\n",
            "  },\n",
            "  \"explainer\": {\n",
            "    \"default\": [\n",
            "      \"symbolic_pursuit\",\n",
            "      \"kernel_shap\",\n",
            "      \"invase\",\n",
            "      \"shap_permutation_sampler\",\n",
            "      \"risk_effect_size\",\n",
            "      \"lime\"\n",
            "    ]\n",
            "  },\n",
            "  \"preprocessor\": {\n",
            "    \"feature_scaling\": [\n",
            "      \"normal_transform\",\n",
            "      \"minmax_scaler\",\n",
            "      \"maxabs_scaler\",\n",
            "      \"nop\",\n",
            "      \"scaler\",\n",
            "      \"feature_normalizer\",\n",
            "      \"uniform_transform\"\n",
            "    ],\n",
            "    \"dimensionality_reduction\": [\n",
            "      \"pca\",\n",
            "      \"gauss_projection\",\n",
            "      \"fast_ica\",\n",
            "      \"feature_agglomeration\",\n",
            "      \"data_cleanup\",\n",
            "      \"nop\",\n",
            "      \"variance_threshold\"\n",
            "    ]\n",
            "  }\n",
            "}\n"
          ]
        }
      ],
      "source": [
        "# List the available plugins\n",
        "\n",
        "# autoprognosis absolute\n",
        "from autoprognosis.plugins import Plugins\n",
        "\n",
        "print(json.dumps(Plugins().list_available(), indent=2))"
      ]
    },
    {
      "cell_type": "markdown",
      "id": "94bfdf48",
      "metadata": {
        "id": "94bfdf48"
      },
      "source": [
        "We will set a few custom plugins for the pipelines and create the classifier study."
      ]
    },
    {
      "cell_type": "code",
      "execution_count": null,
      "id": "incident-familiar",
      "metadata": {
        "id": "incident-familiar"
      },
      "outputs": [],
      "source": [
        "workspace = Path(\"workspace\")\n",
        "workspace.mkdir(parents=True, exist_ok=True)\n",
        "\n",
        "study_name = \"classification_example\"\n",
        "\n",
        "study = ClassifierStudy(\n",
        "    study_name=study_name,\n",
        "    dataset=df,  # pandas DataFrame\n",
        "    target=\"target\",  # the label column in the dataset\n",
        "    num_iter=2,  # DELETE THIS LINE FOR BETTER RESULTS. how many trials to do for each candidate. Default: 50\n",
        "    num_study_iter=1,  # DELETE THIS LINE FOR BETTER RESULTS. how many outer iterations to do. Default: 5\n",
        "    classifiers=[\"logistic_regression\", \"lda\", \"xgboost\"], # DELETE THIS LINE FOR BETTER RESULTS. \n",
        "    workspace=workspace,\n",
        ")"
      ]
    },
    {
      "cell_type": "markdown",
      "id": "dominican-tulsa",
      "metadata": {
        "id": "dominican-tulsa"
      },
      "source": [
        "### Search for the best ensemble\n"
      ]
    },
    {
      "cell_type": "code",
      "execution_count": null,
      "id": "529fd74d",
      "metadata": {
        "id": "529fd74d",
        "outputId": "41b935fe-9c9b-4fa2-958e-d2018ca38d48",
        "colab": {
          "base_uri": "https://localhost:8080/",
          "height": 144
        }
      },
      "outputs": [
        {
          "output_type": "execute_result",
          "data": {
            "text/plain": [
              "WeightedEnsemble(models=[<autoprognosis.plugins.pipeline.pca_minmax_scaler_data_cleanup_lda object at 0x7fa2b6a63100>,\n",
              "                         <autoprognosis.plugins.pipeline.data_cleanup_logistic_regression object at 0x7fa2b6a6bb50>,\n",
              "                         <autoprognosis.plugins.pipeline.pca_maxabs_scaler_data_cleanup_xgboost object at 0x7fa2b6a01940>],\n",
              "                 weights=[0.1874999998828125, 0.624999999609375,\n",
              "                          0.1874999998828125])"
            ],
            "text/html": [
              "<style>#sk-container-id-1 {color: black;background-color: white;}#sk-container-id-1 pre{padding: 0;}#sk-container-id-1 div.sk-toggleable {background-color: white;}#sk-container-id-1 label.sk-toggleable__label {cursor: pointer;display: block;width: 100%;margin-bottom: 0;padding: 0.3em;box-sizing: border-box;text-align: center;}#sk-container-id-1 label.sk-toggleable__label-arrow:before {content: \"▸\";float: left;margin-right: 0.25em;color: #696969;}#sk-container-id-1 label.sk-toggleable__label-arrow:hover:before {color: black;}#sk-container-id-1 div.sk-estimator:hover label.sk-toggleable__label-arrow:before {color: black;}#sk-container-id-1 div.sk-toggleable__content {max-height: 0;max-width: 0;overflow: hidden;text-align: left;background-color: #f0f8ff;}#sk-container-id-1 div.sk-toggleable__content pre {margin: 0.2em;color: black;border-radius: 0.25em;background-color: #f0f8ff;}#sk-container-id-1 input.sk-toggleable__control:checked~div.sk-toggleable__content {max-height: 200px;max-width: 100%;overflow: auto;}#sk-container-id-1 input.sk-toggleable__control:checked~label.sk-toggleable__label-arrow:before {content: \"▾\";}#sk-container-id-1 div.sk-estimator input.sk-toggleable__control:checked~label.sk-toggleable__label {background-color: #d4ebff;}#sk-container-id-1 div.sk-label input.sk-toggleable__control:checked~label.sk-toggleable__label {background-color: #d4ebff;}#sk-container-id-1 input.sk-hidden--visually {border: 0;clip: rect(1px 1px 1px 1px);clip: rect(1px, 1px, 1px, 1px);height: 1px;margin: -1px;overflow: hidden;padding: 0;position: absolute;width: 1px;}#sk-container-id-1 div.sk-estimator {font-family: monospace;background-color: #f0f8ff;border: 1px dotted black;border-radius: 0.25em;box-sizing: border-box;margin-bottom: 0.5em;}#sk-container-id-1 div.sk-estimator:hover {background-color: #d4ebff;}#sk-container-id-1 div.sk-parallel-item::after {content: \"\";width: 100%;border-bottom: 1px solid gray;flex-grow: 1;}#sk-container-id-1 div.sk-label:hover label.sk-toggleable__label {background-color: #d4ebff;}#sk-container-id-1 div.sk-serial::before {content: \"\";position: absolute;border-left: 1px solid gray;box-sizing: border-box;top: 0;bottom: 0;left: 50%;z-index: 0;}#sk-container-id-1 div.sk-serial {display: flex;flex-direction: column;align-items: center;background-color: white;padding-right: 0.2em;padding-left: 0.2em;position: relative;}#sk-container-id-1 div.sk-item {position: relative;z-index: 1;}#sk-container-id-1 div.sk-parallel {display: flex;align-items: stretch;justify-content: center;background-color: white;position: relative;}#sk-container-id-1 div.sk-item::before, #sk-container-id-1 div.sk-parallel-item::before {content: \"\";position: absolute;border-left: 1px solid gray;box-sizing: border-box;top: 0;bottom: 0;left: 50%;z-index: -1;}#sk-container-id-1 div.sk-parallel-item {display: flex;flex-direction: column;z-index: 1;position: relative;background-color: white;}#sk-container-id-1 div.sk-parallel-item:first-child::after {align-self: flex-end;width: 50%;}#sk-container-id-1 div.sk-parallel-item:last-child::after {align-self: flex-start;width: 50%;}#sk-container-id-1 div.sk-parallel-item:only-child::after {width: 0;}#sk-container-id-1 div.sk-dashed-wrapped {border: 1px dashed gray;margin: 0 0.4em 0.5em 0.4em;box-sizing: border-box;padding-bottom: 0.4em;background-color: white;}#sk-container-id-1 div.sk-label label {font-family: monospace;font-weight: bold;display: inline-block;line-height: 1.2em;}#sk-container-id-1 div.sk-label-container {text-align: center;}#sk-container-id-1 div.sk-container {/* jupyter's `normalize.less` sets `[hidden] { display: none; }` but bootstrap.min.css set `[hidden] { display: none !important; }` so we also need the `!important` here to be able to override the default hidden behavior on the sphinx rendered scikit-learn.org. See: https://github.com/scikit-learn/scikit-learn/issues/21755 */display: inline-block !important;position: relative;}#sk-container-id-1 div.sk-text-repr-fallback {display: none;}</style><div id=\"sk-container-id-1\" class=\"sk-top-container\"><div class=\"sk-text-repr-fallback\"><pre>WeightedEnsemble(models=[&lt;autoprognosis.plugins.pipeline.pca_minmax_scaler_data_cleanup_lda object at 0x7fa2b6a63100&gt;,\n",
              "                         &lt;autoprognosis.plugins.pipeline.data_cleanup_logistic_regression object at 0x7fa2b6a6bb50&gt;,\n",
              "                         &lt;autoprognosis.plugins.pipeline.pca_maxabs_scaler_data_cleanup_xgboost object at 0x7fa2b6a01940&gt;],\n",
              "                 weights=[0.1874999998828125, 0.624999999609375,\n",
              "                          0.1874999998828125])</pre><b>In a Jupyter environment, please rerun this cell to show the HTML representation or trust the notebook. <br />On GitHub, the HTML representation is unable to render, please try loading this page with nbviewer.org.</b></div><div class=\"sk-container\" hidden><div class=\"sk-item\"><div class=\"sk-estimator sk-toggleable\"><input class=\"sk-toggleable__control sk-hidden--visually\" id=\"sk-estimator-id-1\" type=\"checkbox\" checked><label for=\"sk-estimator-id-1\" class=\"sk-toggleable__label sk-toggleable__label-arrow\">WeightedEnsemble</label><div class=\"sk-toggleable__content\"><pre>WeightedEnsemble(models=[&lt;autoprognosis.plugins.pipeline.pca_minmax_scaler_data_cleanup_lda object at 0x7fa2b6a63100&gt;,\n",
              "                         &lt;autoprognosis.plugins.pipeline.data_cleanup_logistic_regression object at 0x7fa2b6a6bb50&gt;,\n",
              "                         &lt;autoprognosis.plugins.pipeline.pca_maxabs_scaler_data_cleanup_xgboost object at 0x7fa2b6a01940&gt;],\n",
              "                 weights=[0.1874999998828125, 0.624999999609375,\n",
              "                          0.1874999998828125])</pre></div></div></div></div></div>"
            ]
          },
          "metadata": {},
          "execution_count": 7
        }
      ],
      "source": [
        "# study.run saves a good architecture in \"model.p\" - the model is not trained at this stage.\n",
        "# That model can be later used/reused for benchmarks or training on the dataset.\n",
        "\n",
        "study.run()"
      ]
    },
    {
      "cell_type": "code",
      "execution_count": null,
      "id": "0677190e",
      "metadata": {
        "id": "0677190e",
        "outputId": "805bdf61-2ce9-42fe-9d85-8ac26c1769b2",
        "colab": {
          "base_uri": "https://localhost:8080/"
        }
      },
      "outputs": [
        {
          "output_type": "stream",
          "name": "stdout",
          "text": [
            "Model 0.1874999998828125 * (pca->minmax_scaler->data_cleanup->lda) + 0.624999999609375 * (data_cleanup->logistic_regression) + 0.1874999998828125 * (pca->maxabs_scaler->data_cleanup->xgboost)\n",
            "{'accuracy': '0.947 +/- 0.005',\n",
            " 'aucprc': '0.992 +/- 0.005',\n",
            " 'aucroc': '0.988 +/- 0.005',\n",
            " 'f1_score_macro': '0.943 +/- 0.006',\n",
            " 'f1_score_micro': '0.947 +/- 0.005',\n",
            " 'f1_score_weighted': '0.947 +/- 0.005',\n",
            " 'kappa': '0.887 +/- 0.011',\n",
            " 'kappa_quadratic': '0.887 +/- 0.011',\n",
            " 'mcc': '0.888 +/- 0.01',\n",
            " 'precision_macro': '0.946 +/- 0.003',\n",
            " 'precision_micro': '0.947 +/- 0.005',\n",
            " 'precision_weighted': '0.948 +/- 0.004',\n",
            " 'recall_macro': '0.942 +/- 0.011',\n",
            " 'recall_micro': '0.947 +/- 0.005',\n",
            " 'recall_weighted': '0.947 +/- 0.005'}\n"
          ]
        }
      ],
      "source": [
        "from pprint import pprint\n",
        "# autoprognosis absolute\n",
        "from autoprognosis.utils.serialization import load_model_from_file\n",
        "from autoprognosis.utils.tester import evaluate_estimator\n",
        "\n",
        "output = workspace / study_name / \"model.p\"\n",
        "\n",
        "model = load_model_from_file(output)\n",
        "\n",
        "metrics = evaluate_estimator(model, X, Y)\n",
        "\n",
        "print(f\"Model {model.name()}\")\n",
        "pprint(metrics['str'])"
      ]
    },
    {
      "cell_type": "markdown",
      "source": [
        "## Serialization"
      ],
      "metadata": {
        "id": "ksSbSJCJ2s3j"
      },
      "id": "ksSbSJCJ2s3j"
    },
    {
      "cell_type": "code",
      "source": [
        "# Train the model\n",
        "\n",
        "model.fit(X,Y)"
      ],
      "metadata": {
        "id": "tfkQNIf83CYP",
        "outputId": "ade71bfb-08ef-41b4-808b-7dbfda0bfdb1",
        "colab": {
          "base_uri": "https://localhost:8080/",
          "height": 161
        }
      },
      "id": "tfkQNIf83CYP",
      "execution_count": null,
      "outputs": [
        {
          "output_type": "execute_result",
          "data": {
            "text/plain": [
              "WeightedEnsemble(explainers={},\n",
              "                 models=[<autoprognosis.plugins.pipeline.pca_minmax_scaler_data_cleanup_lda object at 0x7fa2b0ff00a0>,\n",
              "                         <autoprognosis.plugins.pipeline.data_cleanup_logistic_regression object at 0x7fa2b1074280>,\n",
              "                         <autoprognosis.plugins.pipeline.pca_maxabs_scaler_data_cleanup_xgboost object at 0x7fa2b1048fa0>],\n",
              "                 weights=[0.1874999998828125, 0.624999999609375,\n",
              "                          0.1874999998828125])"
            ],
            "text/html": [
              "<style>#sk-container-id-2 {color: black;background-color: white;}#sk-container-id-2 pre{padding: 0;}#sk-container-id-2 div.sk-toggleable {background-color: white;}#sk-container-id-2 label.sk-toggleable__label {cursor: pointer;display: block;width: 100%;margin-bottom: 0;padding: 0.3em;box-sizing: border-box;text-align: center;}#sk-container-id-2 label.sk-toggleable__label-arrow:before {content: \"▸\";float: left;margin-right: 0.25em;color: #696969;}#sk-container-id-2 label.sk-toggleable__label-arrow:hover:before {color: black;}#sk-container-id-2 div.sk-estimator:hover label.sk-toggleable__label-arrow:before {color: black;}#sk-container-id-2 div.sk-toggleable__content {max-height: 0;max-width: 0;overflow: hidden;text-align: left;background-color: #f0f8ff;}#sk-container-id-2 div.sk-toggleable__content pre {margin: 0.2em;color: black;border-radius: 0.25em;background-color: #f0f8ff;}#sk-container-id-2 input.sk-toggleable__control:checked~div.sk-toggleable__content {max-height: 200px;max-width: 100%;overflow: auto;}#sk-container-id-2 input.sk-toggleable__control:checked~label.sk-toggleable__label-arrow:before {content: \"▾\";}#sk-container-id-2 div.sk-estimator input.sk-toggleable__control:checked~label.sk-toggleable__label {background-color: #d4ebff;}#sk-container-id-2 div.sk-label input.sk-toggleable__control:checked~label.sk-toggleable__label {background-color: #d4ebff;}#sk-container-id-2 input.sk-hidden--visually {border: 0;clip: rect(1px 1px 1px 1px);clip: rect(1px, 1px, 1px, 1px);height: 1px;margin: -1px;overflow: hidden;padding: 0;position: absolute;width: 1px;}#sk-container-id-2 div.sk-estimator {font-family: monospace;background-color: #f0f8ff;border: 1px dotted black;border-radius: 0.25em;box-sizing: border-box;margin-bottom: 0.5em;}#sk-container-id-2 div.sk-estimator:hover {background-color: #d4ebff;}#sk-container-id-2 div.sk-parallel-item::after {content: \"\";width: 100%;border-bottom: 1px solid gray;flex-grow: 1;}#sk-container-id-2 div.sk-label:hover label.sk-toggleable__label {background-color: #d4ebff;}#sk-container-id-2 div.sk-serial::before {content: \"\";position: absolute;border-left: 1px solid gray;box-sizing: border-box;top: 0;bottom: 0;left: 50%;z-index: 0;}#sk-container-id-2 div.sk-serial {display: flex;flex-direction: column;align-items: center;background-color: white;padding-right: 0.2em;padding-left: 0.2em;position: relative;}#sk-container-id-2 div.sk-item {position: relative;z-index: 1;}#sk-container-id-2 div.sk-parallel {display: flex;align-items: stretch;justify-content: center;background-color: white;position: relative;}#sk-container-id-2 div.sk-item::before, #sk-container-id-2 div.sk-parallel-item::before {content: \"\";position: absolute;border-left: 1px solid gray;box-sizing: border-box;top: 0;bottom: 0;left: 50%;z-index: -1;}#sk-container-id-2 div.sk-parallel-item {display: flex;flex-direction: column;z-index: 1;position: relative;background-color: white;}#sk-container-id-2 div.sk-parallel-item:first-child::after {align-self: flex-end;width: 50%;}#sk-container-id-2 div.sk-parallel-item:last-child::after {align-self: flex-start;width: 50%;}#sk-container-id-2 div.sk-parallel-item:only-child::after {width: 0;}#sk-container-id-2 div.sk-dashed-wrapped {border: 1px dashed gray;margin: 0 0.4em 0.5em 0.4em;box-sizing: border-box;padding-bottom: 0.4em;background-color: white;}#sk-container-id-2 div.sk-label label {font-family: monospace;font-weight: bold;display: inline-block;line-height: 1.2em;}#sk-container-id-2 div.sk-label-container {text-align: center;}#sk-container-id-2 div.sk-container {/* jupyter's `normalize.less` sets `[hidden] { display: none; }` but bootstrap.min.css set `[hidden] { display: none !important; }` so we also need the `!important` here to be able to override the default hidden behavior on the sphinx rendered scikit-learn.org. See: https://github.com/scikit-learn/scikit-learn/issues/21755 */display: inline-block !important;position: relative;}#sk-container-id-2 div.sk-text-repr-fallback {display: none;}</style><div id=\"sk-container-id-2\" class=\"sk-top-container\"><div class=\"sk-text-repr-fallback\"><pre>WeightedEnsemble(explainers={},\n",
              "                 models=[&lt;autoprognosis.plugins.pipeline.pca_minmax_scaler_data_cleanup_lda object at 0x7fa2b0ff00a0&gt;,\n",
              "                         &lt;autoprognosis.plugins.pipeline.data_cleanup_logistic_regression object at 0x7fa2b1074280&gt;,\n",
              "                         &lt;autoprognosis.plugins.pipeline.pca_maxabs_scaler_data_cleanup_xgboost object at 0x7fa2b1048fa0&gt;],\n",
              "                 weights=[0.1874999998828125, 0.624999999609375,\n",
              "                          0.1874999998828125])</pre><b>In a Jupyter environment, please rerun this cell to show the HTML representation or trust the notebook. <br />On GitHub, the HTML representation is unable to render, please try loading this page with nbviewer.org.</b></div><div class=\"sk-container\" hidden><div class=\"sk-item\"><div class=\"sk-estimator sk-toggleable\"><input class=\"sk-toggleable__control sk-hidden--visually\" id=\"sk-estimator-id-2\" type=\"checkbox\" checked><label for=\"sk-estimator-id-2\" class=\"sk-toggleable__label sk-toggleable__label-arrow\">WeightedEnsemble</label><div class=\"sk-toggleable__content\"><pre>WeightedEnsemble(explainers={},\n",
              "                 models=[&lt;autoprognosis.plugins.pipeline.pca_minmax_scaler_data_cleanup_lda object at 0x7fa2b0ff00a0&gt;,\n",
              "                         &lt;autoprognosis.plugins.pipeline.data_cleanup_logistic_regression object at 0x7fa2b1074280&gt;,\n",
              "                         &lt;autoprognosis.plugins.pipeline.pca_maxabs_scaler_data_cleanup_xgboost object at 0x7fa2b1048fa0&gt;],\n",
              "                 weights=[0.1874999998828125, 0.624999999609375,\n",
              "                          0.1874999998828125])</pre></div></div></div></div></div>"
            ]
          },
          "metadata": {},
          "execution_count": 9
        }
      ]
    },
    {
      "cell_type": "code",
      "source": [
        "from autoprognosis.utils.serialization import save_to_file, load_from_file\n",
        "\n",
        "out = workspace / \"tmp.bkp\"\n",
        "\n",
        "# Save\n",
        "save_to_file(out, model)\n",
        "\n",
        "# Load from file\n",
        "loaded_model = load_from_file(out)\n",
        "\n",
        "print(loaded_model.name())\n",
        "\n",
        "assert loaded_model.name() == model.name()\n",
        "\n",
        "out.unlink()"
      ],
      "metadata": {
        "id": "MHbYM42b2vHl",
        "outputId": "7a244063-6b03-442a-b083-4e5cf9bfec89",
        "colab": {
          "base_uri": "https://localhost:8080/"
        }
      },
      "id": "MHbYM42b2vHl",
      "execution_count": null,
      "outputs": [
        {
          "output_type": "stream",
          "name": "stdout",
          "text": [
            "0.1874999998828125 * (pca->minmax_scaler->data_cleanup->lda) + 0.624999999609375 * (data_cleanup->logistic_regression) + 0.1874999998828125 * (pca->maxabs_scaler->data_cleanup->xgboost)\n"
          ]
        }
      ]
    },
    {
      "cell_type": "markdown",
      "id": "neural-dutch",
      "metadata": {
        "id": "neural-dutch"
      },
      "source": [
        "## Congratulations!\n",
        "\n",
        "Congratulations on completing this notebook tutorial! If you enjoyed this and would like to join the movement towards Machine learning and AI for medicine, you can do so in the following ways!\n",
        "\n",
        "### Star AutoPrognosis on GitHub\n",
        "\n",
        "The easiest way to help our community is just by starring the Repos! This helps raise awareness of the tools we're building.\n",
        "\n",
        "- [Star AutoPrognosis](https://github.com/vanderschaarlab/autoprognosis)\n",
        "- [Star HyperImpute](https://github.com/vanderschaarlab/hyperimpute)\n",
        "\n",
        "\n",
        "### Checkout other projects from vanderschaarlab\n",
        "- [Synthcity](https://github.com/vanderschaarlab/synthcity)\n",
        "\n"
      ]
    }
  ],
  "metadata": {
    "kernelspec": {
      "display_name": "Python 3 (ipykernel)",
      "language": "python",
      "name": "python3"
    },
    "language_info": {
      "codemirror_mode": {
        "name": "ipython",
        "version": 3
      },
      "file_extension": ".py",
      "mimetype": "text/x-python",
      "name": "python",
      "nbconvert_exporter": "python",
      "pygments_lexer": "ipython3",
      "version": "3.8.13"
    },
    "colab": {
      "provenance": [],
      "include_colab_link": true
    }
  },
  "nbformat": 4,
  "nbformat_minor": 5
}